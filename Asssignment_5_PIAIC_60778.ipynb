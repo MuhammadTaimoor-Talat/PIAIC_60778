{
 "cells": [
  {
   "cell_type": "code",
   "execution_count": 21,
   "metadata": {},
   "outputs": [
    {
     "name": "stdout",
     "output_type": "stream",
     "text": [
      "Ticket Price: $10\n"
     ]
    }
   ],
   "source": [
    "# Question 1: Ticket Pricing System\n",
    "\n",
    "age = input(\"Please Enter Age:\")\n",
    "age = int(age)\n",
    "\n",
    "if age < 5:\n",
    "    print(\"Ticket Price: Free\")\n",
    "elif age >=5 and age <= 17:\n",
    "    print(\"Ticket Price: $10\")\n",
    "elif age >=18 and age <= 60:\n",
    "    print(\"Ticket Price: $20\")\n",
    "elif age > 60:\n",
    "    print(\"Ticket Price: $15\")\n"
   ]
  },
  {
   "cell_type": "code",
   "execution_count": 35,
   "metadata": {},
   "outputs": [
    {
     "name": "stdout",
     "output_type": "stream",
     "text": [
      "It's time for Lunch\n"
     ]
    }
   ],
   "source": [
    "# Question 2: Meal Recommendation\n",
    "\n",
    "time = input(\"Please Enter Time:\")\n",
    "time = int(time)\n",
    "\n",
    "if time <= 11 and time >=5:                       # 5 AM to 11 AM: Breakfast\n",
    "    print(\"It's time for Breakfast\")\n",
    "elif time <= 16 and time >=12:                    # 12 PM to 4 PM: Lunch\n",
    "    print(\"It's time for Lunch\")\n",
    "elif time <= 21 and time >=17:                    # 5 PM to 9 PM: Dinner\n",
    "    print(\"It's time for Dinner\")\n",
    "else:\n",
    "    print(\"It's time for Late-Night Snack\")       # 10 PM to 4 AM: Late-night Snack"
   ]
  },
  {
   "cell_type": "code",
   "execution_count": 37,
   "metadata": {},
   "outputs": [
    {
     "name": "stdout",
     "output_type": "stream",
     "text": [
      "['20']\n"
     ]
    }
   ],
   "source": [
    "# Question 3: Grocery Bill Calculator\n",
    "\n",
    "items = input(\"Enter price of grocery items:\")\n",
    "item_list = items.split(',')\n",
    "\n",
    "print(item_list)"
   ]
  }
 ],
 "metadata": {
  "kernelspec": {
   "display_name": "Python 3",
   "language": "python",
   "name": "python3"
  },
  "language_info": {
   "codemirror_mode": {
    "name": "ipython",
    "version": 3
   },
   "file_extension": ".py",
   "mimetype": "text/x-python",
   "name": "python",
   "nbconvert_exporter": "python",
   "pygments_lexer": "ipython3",
   "version": "3.13.1"
  }
 },
 "nbformat": 4,
 "nbformat_minor": 2
}
