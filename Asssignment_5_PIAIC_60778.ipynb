{
 "cells": [
  {
   "cell_type": "code",
   "execution_count": 18,
   "metadata": {},
   "outputs": [
    {
     "name": "stdout",
     "output_type": "stream",
     "text": [
      "Ticket Price: $20\n"
     ]
    }
   ],
   "source": [
    "# Question 1: Ticket Pricing System\n",
    "\n",
    "age = input(\"Please Enter Age:\")\n",
    "age = int(age)\n",
    "\n",
    "if age < 5:\n",
    "    print(\"Ticket Price: Free\")\n",
    "elif age >=5 and age <= 17:\n",
    "    print(\"Ticket Price: $10\")\n",
    "elif age >=18 and age <= 60:\n",
    "    print(\"Ticket Price: $20\")\n",
    "elif age > 60:\n",
    "    print(\"Ticket Price: $15\")\n"
   ]
  },
  {
   "cell_type": "code",
   "execution_count": null,
   "metadata": {},
   "outputs": [],
   "source": [
    "# Question 2: Meal Recommendation\n",
    "\n"
   ]
  }
 ],
 "metadata": {
  "kernelspec": {
   "display_name": "Python 3",
   "language": "python",
   "name": "python3"
  },
  "language_info": {
   "codemirror_mode": {
    "name": "ipython",
    "version": 3
   },
   "file_extension": ".py",
   "mimetype": "text/x-python",
   "name": "python",
   "nbconvert_exporter": "python",
   "pygments_lexer": "ipython3",
   "version": "3.13.1"
  }
 },
 "nbformat": 4,
 "nbformat_minor": 2
}
