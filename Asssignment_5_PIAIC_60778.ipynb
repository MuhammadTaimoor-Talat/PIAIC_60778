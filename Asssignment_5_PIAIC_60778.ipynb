{
 "cells": [
  {
   "cell_type": "code",
   "execution_count": 21,
   "metadata": {},
   "outputs": [
    {
     "name": "stdout",
     "output_type": "stream",
     "text": [
      "Ticket Price: $10\n"
     ]
    }
   ],
   "source": [
    "# Question 1: Ticket Pricing System\n",
    "\n",
    "age = input(\"Please Enter Age:\")\n",
    "age = int(age)\n",
    "\n",
    "if age < 5:\n",
    "    print(\"Ticket Price: Free\")\n",
    "elif age >=5 and age <= 17:\n",
    "    print(\"Ticket Price: $10\")\n",
    "elif age >=18 and age <= 60:\n",
    "    print(\"Ticket Price: $20\")\n",
    "elif age > 60:\n",
    "    print(\"Ticket Price: $15\")\n"
   ]
  },
  {
   "cell_type": "code",
   "execution_count": 35,
   "metadata": {},
   "outputs": [
    {
     "name": "stdout",
     "output_type": "stream",
     "text": [
      "It's time for Lunch\n"
     ]
    }
   ],
   "source": [
    "# Question 2: Meal Recommendation\n",
    "\n",
    "time = input(\"Please Enter Time:\")\n",
    "time = int(time)\n",
    "\n",
    "if time <= 11 and time >=5:                       # 5 AM to 11 AM: Breakfast\n",
    "    print(\"It's time for Breakfast\")\n",
    "elif time <= 16 and time >=12:                    # 12 PM to 4 PM: Lunch\n",
    "    print(\"It's time for Lunch\")\n",
    "elif time <= 21 and time >=17:                    # 5 PM to 9 PM: Dinner\n",
    "    print(\"It's time for Dinner\")\n",
    "else:\n",
    "    print(\"It's time for Late-Night Snack\")       # 10 PM to 4 AM: Late-night Snack"
   ]
  },
  {
   "cell_type": "code",
   "execution_count": null,
   "metadata": {},
   "outputs": [
    {
     "name": "stdout",
     "output_type": "stream",
     "text": [
      "[10, 20, 30, 40, 50]\n",
      "Total Price is  150\n",
      "Discount Applied: $15.00\n",
      "Discounted Total: $135.00\n"
     ]
    }
   ],
   "source": [
    "# Question 3: Grocery Bill Calculator\n",
    "\n",
    "items = input(\"Enter price of grocery items:\")\n",
    "\n",
    "price = [int(x) for x in items.split(',')]\n",
    "print(price)\n",
    "\n",
    "total = sum(price)\n",
    "print('Total Price is ',total)\n",
    "\n",
    "if total > 100:\n",
    "    discount = total * 0.10\n",
    "    discounted_total = total - discount\n",
    "    print(f\"Discount Applied: ${discount:.2f}\")       #.2f will return value of discount in float with two decimal places\n",
    "    print(f\"Discounted Total: ${discounted_total:.2f}\")\n",
    "else:\n",
    "    print(\"No discount applied.\")"
   ]
  },
  {
   "cell_type": "code",
   "execution_count": null,
   "metadata": {},
   "outputs": [
    {
     "name": "stdout",
     "output_type": "stream",
     "text": [
      "Username is Not Valid\n",
      "5\n"
     ]
    }
   ],
   "source": [
    "# Question 4: Username Validator\n",
    "\n",
    "user = input(\"Username:\")\n",
    "\n",
    "if 5 < len(user) < 15  and user.isalpha():    # this statement check if first letter is alphabet or not\n",
    "    print(\"Username is Valid\")\n",
    "else:\n",
    "    print(\"Username is Not Valid\")"
   ]
  },
  {
   "cell_type": "code",
   "execution_count": 29,
   "metadata": {},
   "outputs": [
    {
     "name": "stdout",
     "output_type": "stream",
     "text": [
      "Sunny\n",
      "Go to the beach!\n"
     ]
    }
   ],
   "source": [
    "# Question 5: Travel Destination Suggestion\n",
    "\n",
    "weather = input(\"Enter Weather you like:\")\n",
    "print(weather)\n",
    "\n",
    "if weather.lower() == \"rainy\":\n",
    "    print(\"Visit a cozy mountain lodge!\")\n",
    "elif weather.lower() == \"sunny\":\n",
    "    print(\"Go to the beach!\")\n",
    "elif weather.lower() == \"snowy\":\n",
    "    print(\"Time for a ski trip!\")\n",
    "else:\n",
    "    print(\"Invalid input! Please enter Sunny, Rainy, or Snowy.\")"
   ]
  },
  {
   "cell_type": "code",
   "execution_count": 30,
   "metadata": {},
   "outputs": [
    {
     "name": "stdout",
     "output_type": "stream",
     "text": [
      "You are eligible for a 15% discount!\n"
     ]
    }
   ],
   "source": [
    "# Question 6: Discount Eligibility Checker\n",
    "\n",
    "total = int(input(\"Enter the total amount spent: \"))\n",
    "\n",
    "member = input(\"Are you a loyalty program member? (Yes/No): \").strip().lower()\n",
    "\n",
    "if total > 200 or member == \"yes\":\n",
    "    print(\"You are eligible for a 15% discount!\")\n",
    "else:\n",
    "    print(\"You are not eligible for the discount.\")"
   ]
  },
  {
   "cell_type": "code",
   "execution_count": 32,
   "metadata": {},
   "outputs": [
    {
     "name": "stdout",
     "output_type": "stream",
     "text": [
      "Welcome, Ali! You are invited to the event.\n"
     ]
    }
   ],
   "source": [
    "# Question 7: Event Invitation\n",
    "\n",
    "guest = [\"Ali\", \"Ahmed\", \"Wali\", \"Hasan\", \"Bushra\"]\n",
    "\n",
    "username = input(\"Enter your name: \").strip().capitalize()\n",
    "\n",
    "if username in guest:\n",
    "    print(f\"Welcome, {username}! You are invited to the event.\")\n",
    "else:\n",
    "    print(f\"Sorry, {username}. You are not on the guest list.\")"
   ]
  },
  {
   "cell_type": "code",
   "execution_count": 36,
   "metadata": {},
   "outputs": [
    {
     "name": "stdout",
     "output_type": "stream",
     "text": [
      "You are eligible to watch Action Movies.\n"
     ]
    }
   ],
   "source": [
    "# Question 8: Movie Streaming Eligibility \n",
    "age = int(input(\"Enter Age:\"))\n",
    "movie = input(\"Enter movie type:\")\n",
    "movie = movie.capitalize().strip()\n",
    "\n",
    "if movie == \"Action\":\n",
    "    if age >= 18:\n",
    "        print(\"You are eligible to watch Action Movies.\")\n",
    "    else:\n",
    "        print(\"You are not eligible to watch Action Movies.\")\n",
    "elif movie == \"Animated\":\n",
    "    print(\"You are eligible to watch Animated Movies.\")\n",
    "elif movie == \"Documentaries\":\n",
    "    if age >= 12:\n",
    "        print(\"You are eligible to watch Documentaries.\")\n",
    "    else:\n",
    "        print(\"You are not eligible to watch Documentaries.\")\n",
    "else:\n",
    "    print(\"Invalid movie type! Please choose Action, Animated, or Documentaries.\")"
   ]
  },
  {
   "cell_type": "code",
   "execution_count": 39,
   "metadata": {},
   "outputs": [
    {
     "name": "stdout",
     "output_type": "stream",
     "text": [
      "Formatted Phone Number: (012) 345-6789\n"
     ]
    }
   ],
   "source": [
    "# Question 9: Phone Number Formatter\n",
    "\n",
    "number = input(\"Enter your phone number (10 digits): \").strip()\n",
    "\n",
    "if number.isdigit() and len(number) == 10:\n",
    "    num = f\"({number[:3]}) {number[3:6]}-{number[6:]}\"\n",
    "    print(f\"Formatted Phone Number: {num}\")\n",
    "else:\n",
    "    print(\"Invalid input! Please enter a 10-digit phone number.\")"
   ]
  },
  {
   "cell_type": "code",
   "execution_count": 41,
   "metadata": {},
   "outputs": [
    {
     "name": "stdout",
     "output_type": "stream",
     "text": [
      "Shipping cost = $ 50\n"
     ]
    }
   ],
   "source": [
    "# Question 10: Package Shipping Cost\n",
    "\n",
    "weight = int(input(\"Enter Weight in kg:\"))\n",
    "\n",
    "if weight <= 1:\n",
    "    cost = 5\n",
    "elif weight <= 5:\n",
    "    cost = 10\n",
    "elif weight <= 20:\n",
    "    cost = 20\n",
    "else:\n",
    "    cost = 50\n",
    "\n",
    "print(\"Shipping cost = $\",cost)\n"
   ]
  },
  {
   "cell_type": "code",
   "execution_count": 48,
   "metadata": {},
   "outputs": [
    {
     "name": "stdout",
     "output_type": "stream",
     "text": [
      "\n",
      "Total Marks: 382/500\n",
      "Percentage: 76.4%\n",
      "Grade: C\n",
      "Result: Failed\n"
     ]
    }
   ],
   "source": [
    "# Question 11: Student Grading System\n",
    "\n",
    "marks = []     # make an empty list to add numbers later\n",
    "for i in range(1, 6):\n",
    "        mark = int(input(f\"Enter the marks for subject {i} (out of 100): \"))\n",
    "        if mark < 0 or mark > 100:\n",
    "            print(\"Invalid input! Marks should be between 0 and 100.\")\n",
    "            exit()\n",
    "        marks.append(mark)\n",
    "\n",
    "total = sum(marks)\n",
    "percentage = (total / 500) * 100\n",
    "\n",
    "if percentage >= 90:\n",
    "    grade = 'A'\n",
    "elif percentage >= 80:\n",
    "    grade = 'B'\n",
    "elif percentage >= 70:\n",
    "    grade = 'C'\n",
    "elif percentage >= 60:\n",
    "    grade = 'D'\n",
    "else:\n",
    "    grade = 'F'\n",
    "\n",
    "print(f\"\\nTotal Marks: {total}/500\")\n",
    "print(f\"Percentage: {percentage}%\")\n",
    "print(f\"Grade: {grade}\")\n",
    "if all( x >= 60 for x in marks):    # check all entries in marks list if it is greater than 60\n",
    "    print(\"Result: Passed\")\n",
    "else:\n",
    "    print(\"Result: Failed\")"
   ]
  }
 ],
 "metadata": {
  "kernelspec": {
   "display_name": "Python 3",
   "language": "python",
   "name": "python3"
  },
  "language_info": {
   "codemirror_mode": {
    "name": "ipython",
    "version": 3
   },
   "file_extension": ".py",
   "mimetype": "text/x-python",
   "name": "python",
   "nbconvert_exporter": "python",
   "pygments_lexer": "ipython3",
   "version": "3.13.1"
  }
 },
 "nbformat": 4,
 "nbformat_minor": 2
}
