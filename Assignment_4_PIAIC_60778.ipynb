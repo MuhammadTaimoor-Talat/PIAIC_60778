{
 "cells": [
  {
   "cell_type": "code",
   "execution_count": 44,
   "metadata": {},
   "outputs": [
    {
     "name": "stdout",
     "output_type": "stream",
     "text": [
      "Ammar\n",
      "Azhar\n",
      "Ahmar\n",
      "Bilal\n",
      "Danish\n",
      "Hello Ammar!, Welcome to Python Programmimg.\n",
      "Hello Azhar!, Welcome to Python Programmimg.\n",
      "Hello Ahmar!, Welcome to Python Programmimg.\n",
      "Hello Bilal!, Welcome to Python Programmimg.\n",
      "Hello Danish!, Welcome to Python Programmimg.\n"
     ]
    }
   ],
   "source": [
    "#Exercise 3-1: Names\n",
    "\n",
    "names : list = ['Ammar','Azhar','Ahmar','Bilal','Danish']\n",
    "\n",
    "print(names[0])    #print first item on list\n",
    "print(names[1])\n",
    "print(names[2])\n",
    "print(names[3])\n",
    "print(names[4])\n",
    "\n",
    "#Exercise 3-2: Greetings\n",
    "\n",
    "for i in names:\n",
    "    print(f\"Hello {i}!, Welcome to Python Programmimg.\")\n"
   ]
  },
  {
   "cell_type": "code",
   "execution_count": 18,
   "metadata": {},
   "outputs": [
    {
     "name": "stdout",
     "output_type": "stream",
     "text": [
      "I would like to own a Tesla Model S.\n",
      "I would like to own a Ducati Panigale V4.\n",
      "I would like to own a BMW X7.\n",
      "I would like to own a Kawasaki Ninja H2R.\n",
      "I would like to own a Porsche 911.\n",
      "\n",
      "\n",
      "Dear Ali Rehman, I would be honored to have you join me for dinner!\n",
      "Dear Bilal Shafique, I would be honored to have you join me for dinner!\n",
      "Dear Anum Mukhtar, I would be honored to have you join me for dinner!\n",
      "\n",
      "Unfortunately, Anum Mukhtar can't make it to dinner.\n",
      "\n",
      "Updated invitations:\n",
      "Dear Ali Rehman, I would be honored to have you join me for dinner!\n",
      "Dear Bilal Shafique, I would be honored to have you join me for dinner!\n",
      "Dear Ali Raza, I would be honored to have you join me for dinner!\n",
      "\n",
      "Great news guys! I just found a bigger table.\n",
      "Dear Nawazudin, I would be honored to have you join me for dinner!\n",
      "Dear Ali Rehman, I would be honored to have you join me for dinner!\n",
      "Dear Qasim, I would be honored to have you join me for dinner!\n",
      "Dear Bilal Shafique, I would be honored to have you join me for dinner!\n",
      "Dear Ali Raza, I would be honored to have you join me for dinner!\n",
      "Dear Salman, I would be honored to have you join me for dinner!\n"
     ]
    }
   ],
   "source": [
    "#Exercise 3-3: Your Own List\n",
    "\n",
    "fav_mode: list = [\"Tesla Model S\", \"Ducati Panigale V4\", \"BMW X7\", \"Kawasaki Ninja H2R\", \"Porsche 911\"]\n",
    "\n",
    "for i in fav_mode:\n",
    "    print(f\"I would like to own a {i}.\")\n",
    "\n",
    "\n",
    "#Exercise 3-4: Guest List\n",
    "\n",
    "guests = [\"Ali Rehman\", \"Bilal Shafique\", \"Anum Mukhtar\"]\n",
    "print(\"\\n\")\n",
    "\n",
    "for i in guests:\n",
    "    print(f\"Dear {i}, I would be honored to have you join me for dinner!\")\n",
    "\n",
    "\n",
    "#Exercise 3-5: Changing Guest List\n",
    "\n",
    "not_attending = \"Anum Mukhtar\"\n",
    "\n",
    "print(f\"\\nUnfortunately, {not_attending} can't make it to dinner.\")\n",
    "\n",
    "guests[guests.index(not_attending)] = \"Ali Raza\"                    # guest Ali Raza will take place the space of Anum in list\n",
    "\n",
    "print(\"\\nUpdated invitations:\")\n",
    "for i in guests:\n",
    "    print(f\"Dear {i}, I would be honored to have you join me for dinner!\")\n",
    "\n",
    "\n",
    "#Exercise 3-6: More Guests\n",
    "\n",
    "print(\"\\nGreat news guys! I just found a bigger table.\")\n",
    "\n",
    "guests.insert(0, \"Nawazudin\")\n",
    "guests.insert(2, \"Qasim\")                     \n",
    "guests.append(\"Salman\")\n",
    "\n",
    "for i in guests:\n",
    "    print(f\"Dear {i}, I would be honored to have you join me for dinner!\")\n",
    "\n"
   ]
  },
  {
   "cell_type": "code",
   "execution_count": 19,
   "metadata": {},
   "outputs": [
    {
     "name": "stdout",
     "output_type": "stream",
     "text": [
      "\n",
      "Unfortunately, I can invite only two people for dinner.\n",
      "\n",
      "Sorry, Salman, I can't invite you to dinner.\n",
      "Sorry, Ali Raza, I can't invite you to dinner.\n",
      "Sorry, Bilal Shafique, I can't invite you to dinner.\n",
      "Sorry, Qasim, I can't invite you to dinner.\n",
      "\n",
      "Updated invitations:\n",
      "Dear Nawazudin, you are still invited to dinner!\n",
      "Dear Ali Rehman, you are still invited to dinner!\n",
      "\n",
      "Final guest list: []\n"
     ]
    }
   ],
   "source": [
    "#Exercise 3-7: Shrinking Guest List\n",
    "\n",
    "print(\"\\nUnfortunately, I can invite only two people for dinner.\\n\")\n",
    "\n",
    "while len(guests) > 2:                             #loop will run until list reduced to 2 items\n",
    "    removed_guest = guests.pop()                   #This will remove last item in list\n",
    "    print(f\"Sorry, {removed_guest}, I can't invite you to dinner.\")\n",
    "\n",
    "print(\"\\nUpdated invitations:\")\n",
    "\n",
    "\n",
    "for i in guests:\n",
    "    print(f\"Dear {i}, you are still invited to dinner!\")\n",
    "\n",
    "for j in range(len(guests)):\n",
    "    del guests[0]                                   # delete item on index zero until no item left in list\n",
    "\n",
    "print(\"\\nFinal guest list:\",guests)"
   ]
  },
  {
   "cell_type": "code",
   "execution_count": 36,
   "metadata": {},
   "outputs": [
    {
     "name": "stdout",
     "output_type": "stream",
     "text": [
      "Original list:  ['Tokyo', 'Paris', 'Cape Town', 'Sydney', 'New York', 'Amsterdam']\n",
      "\n",
      "Sorted List:  ['Amsterdam', 'Cape Town', 'New York', 'Paris', 'Sydney', 'Tokyo']\n",
      "Original list:  ['Tokyo', 'Paris', 'Cape Town', 'Sydney', 'New York', 'Amsterdam']\n",
      "\n",
      "Sorted reversed List:  ['Tokyo', 'Sydney', 'Paris', 'New York', 'Cape Town', 'Amsterdam']\n",
      "Original list:  ['Tokyo', 'Paris', 'Cape Town', 'Sydney', 'New York', 'Amsterdam']\n",
      "list using reverse:  ['Amsterdam', 'New York', 'Sydney', 'Cape Town', 'Paris', 'Tokyo']\n",
      "list using reverse:  ['Tokyo', 'Paris', 'Cape Town', 'Sydney', 'New York', 'Amsterdam']\n",
      "list using sort:  ['Amsterdam', 'Cape Town', 'New York', 'Paris', 'Sydney', 'Tokyo']\n",
      "list using sort reversed:  ['Tokyo', 'Sydney', 'Paris', 'New York', 'Cape Town', 'Amsterdam']\n"
     ]
    }
   ],
   "source": [
    "#Exercise 3-8: Seeing the World\n",
    "\n",
    "\n",
    "cities = [\"Tokyo\", \"Paris\", \"Cape Town\", \"Sydney\", \"New York\",\"Amsterdam\"]\n",
    "\n",
    "print(\"Original list: \",cities)                              \n",
    "print('\\nSorted List: ',sorted(cities))                          #prints Sorted list\n",
    "print(\"Original list: \",cities)\n",
    "print('\\nSorted reversed List: ',sorted(cities,reverse='True'))  #print sorted list in reverse order\n",
    "print(\"Original list: \",cities)\n",
    "\n",
    "cities.reverse()\n",
    "print(\"list using reverse: \",cities)                             \n",
    "cities.reverse()\n",
    "print(\"list using reverse: \",cities)\n",
    "\n",
    "cities.sort()                                                    \n",
    "print(\"list using sort: \",cities)\n",
    "cities.sort(reverse='True')\n",
    "print(\"list using sort reversed: \",cities)\n"
   ]
  },
  {
   "cell_type": "code",
   "execution_count": 39,
   "metadata": {},
   "outputs": [
    {
     "name": "stdout",
     "output_type": "stream",
     "text": [
      "Dear Ali Rehman, I would be honored to have you join me for dinner!\n",
      "Dear Bilal Shafique, I would be honored to have you join me for dinner!\n",
      "Dear Anum Mukhtar, I would be honored to have you join me for dinner!\n",
      "\n",
      "Total No. of guests invited = 3\n"
     ]
    }
   ],
   "source": [
    "#Exercise 3-9: Dinner Guests\n",
    "\n",
    "guests = [\"Ali Rehman\", \"Bilal Shafique\", \"Anum Mukhtar\"]\n",
    "\n",
    "for i in guests:\n",
    "    print(f\"Dear {i}, I would be honored to have you join me for dinner!\")\n",
    "    \n",
    "print(\"\\nTotal No. of guests invited =\",len(guests))"
   ]
  },
  {
   "cell_type": "code",
   "execution_count": 40,
   "metadata": {},
   "outputs": [
    {
     "name": "stdout",
     "output_type": "stream",
     "text": [
      "Original list of household items: ['Table', 'Chair', 'Lamp', 'Sofa', 'Cupboard']\n",
      "\n",
      "The first item in the list is: Table\n",
      "\n",
      "List after modifying the third item: ['Table', 'Chair', 'Desk', 'Sofa', 'Cupboard']\n",
      "\n",
      "List after adding a new item: ['Table', 'Chair', 'Desk', 'Sofa', 'Cupboard', 'Fan']\n",
      "\n",
      "List after inserting an item at position 1: ['Table', 'Rug', 'Chair', 'Desk', 'Sofa', 'Cupboard', 'Fan']\n",
      "\n",
      "List after removing the item at position 3 (Desk):\n",
      "['Table', 'Rug', 'Chair', 'Sofa', 'Cupboard', 'Fan']\n",
      "\n",
      "List after removing 'Table': ['Rug', 'Chair', 'Sofa', 'Cupboard', 'Fan']\n",
      "\n",
      "List sorted in alphabetical order:\n",
      "['Chair', 'Cupboard', 'Fan', 'Rug', 'Sofa']\n",
      "\n",
      "List sorted in reverse alphabetical order :\n",
      "['Sofa', 'Rug', 'Fan', 'Cupboard', 'Chair']\n",
      "\n",
      "List after reversing the order:\n",
      "['Fan', 'Cupboard', 'Sofa', 'Chair', 'Rug']\n",
      "\n",
      "List sorted:\n",
      "['Chair', 'Cupboard', 'Fan', 'Rug', 'Sofa']\n",
      "\n",
      "The number of items in the list is: 5\n"
     ]
    }
   ],
   "source": [
    "#Exercise 3-10: Every Function\n",
    "\n",
    "household_items = [\"Table\", \"Chair\", \"Lamp\", \"Sofa\", \"Cupboard\"]\n",
    "\n",
    "print(\"Original list of household items:\",household_items)\n",
    "\n",
    "print(\"\\nThe first item in the list is:\",household_items[0])\n",
    "\n",
    "household_items[2] = \"Desk\"\n",
    "print(\"\\nList after modifying the third item:\",household_items)\n",
    "\n",
    "household_items.append(\"Fan\")\n",
    "print(\"\\nList after adding a new item:\",household_items)\n",
    "\n",
    "household_items.insert(1, \"Rug\")\n",
    "print(\"\\nList after inserting an item at position 1:\",household_items)\n",
    "\n",
    "removed_item = household_items.pop(3)\n",
    "print(f\"\\nList after removing the item at position 3 ({removed_item}):\")\n",
    "print(household_items)\n",
    "\n",
    "household_items.remove(\"Table\")\n",
    "print(\"\\nList after removing 'Table':\",household_items)\n",
    "\n",
    "print(\"\\nList sorted in alphabetical order:\")\n",
    "print(sorted(household_items))\n",
    "\n",
    "print(\"\\nList sorted in reverse alphabetical order :\")\n",
    "print(sorted(household_items, reverse=True))\n",
    "\n",
    "household_items.reverse()\n",
    "print(\"\\nList after reversing the order:\")\n",
    "print(household_items)\n",
    "\n",
    "household_items.sort()\n",
    "print(\"\\nList sorted:\")\n",
    "print(household_items)\n",
    "\n",
    "print(f\"\\nThe number of items in the list is: {len(household_items)}\")"
   ]
  },
  {
   "cell_type": "code",
   "execution_count": 43,
   "metadata": {},
   "outputs": [
    {
     "name": "stdout",
     "output_type": "stream",
     "text": [
      "Cupboard\n"
     ]
    }
   ],
   "source": [
    "#Exercise 3-11: Intentional Error\n",
    "\n",
    "print(household_items[1])    #intentional error made with index 10 \n",
    "                             # error removed now\n",
    "\n",
    "\n"
   ]
  }
 ],
 "metadata": {
  "kernelspec": {
   "display_name": "Python 3",
   "language": "python",
   "name": "python3"
  },
  "language_info": {
   "codemirror_mode": {
    "name": "ipython",
    "version": 3
   },
   "file_extension": ".py",
   "mimetype": "text/x-python",
   "name": "python",
   "nbconvert_exporter": "python",
   "pygments_lexer": "ipython3",
   "version": "3.13.1"
  }
 },
 "nbformat": 4,
 "nbformat_minor": 2
}
