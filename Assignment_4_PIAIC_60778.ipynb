{
 "cells": [
  {
   "cell_type": "code",
   "execution_count": 4,
   "metadata": {},
   "outputs": [
    {
     "name": "stdout",
     "output_type": "stream",
     "text": [
      "Ammar\n",
      "Azhar\n",
      "Ahmar\n",
      "Bilal\n",
      "Danish\n",
      "Hello Ammar!, Welcome to Python Programmimg.\n",
      "Hello Azhar!, Welcome to Python Programmimg.\n",
      "Hello Ahmar!, Welcome to Python Programmimg.\n",
      "Hello Bilal!, Welcome to Python Programmimg.\n",
      "Hello Danish!, Welcome to Python Programmimg.\n"
     ]
    }
   ],
   "source": [
    "#Exercise 3-1: Names\n",
    "\n",
    "names : list = ['Ammar','Azhar','Ahmar','Bilal','Danish']\n",
    "\n",
    "print(names[0])\n",
    "print(names[1])\n",
    "print(names[2])\n",
    "print(names[3])\n",
    "print(names[4])\n",
    "\n",
    "#Exercise 3-2: Greetings\n",
    "\n",
    "for i in names:\n",
    "    print(f\"Hello {i}!, Welcome to Python Programmimg.\")\n"
   ]
  },
  {
   "cell_type": "code",
   "execution_count": 6,
   "metadata": {},
   "outputs": [
    {
     "name": "stdout",
     "output_type": "stream",
     "text": [
      "I would like to own a Tesla Model S.\n",
      "I would like to own a Ducati Panigale V4.\n",
      "I would like to own a BMW X7.\n",
      "I would like to own a Kawasaki Ninja H2R.\n",
      "I would like to own a Porsche 911.\n",
      "Dear Ali Rehman, I would be honored to have you join me for dinner!\n",
      "Dear Bilal Shafique, I would be honored to have you join me for dinner!\n",
      "Dear Anum Mukhtar, I would be honored to have you join me for dinner!\n"
     ]
    }
   ],
   "source": [
    "#Exercise 3-3: Your Own List\n",
    "\n",
    "fav_mode: list = [\"Tesla Model S\", \"Ducati Panigale V4\", \"BMW X7\", \"Kawasaki Ninja H2R\", \"Porsche 911\"]\n",
    "\n",
    "for i in fav_mode:\n",
    "    print(f\"I would like to own a {i}.\")\n",
    "\n",
    "\n",
    "#Exercise 3-4: Guest List\n",
    "\n",
    "guests = [\"Ali Rehman\", \"Bilal Shafique\", \"Anum Mukhtar\"]\n",
    "\n",
    "for i in guests:\n",
    "    print(f\"Dear {i}, I would be honored to have you join me for dinner!\")\n",
    "\n",
    "\n",
    "#Exercise 3-5: Changing Guest List\n"
   ]
  }
 ],
 "metadata": {
  "kernelspec": {
   "display_name": "Python 3",
   "language": "python",
   "name": "python3"
  },
  "language_info": {
   "codemirror_mode": {
    "name": "ipython",
    "version": 3
   },
   "file_extension": ".py",
   "mimetype": "text/x-python",
   "name": "python",
   "nbconvert_exporter": "python",
   "pygments_lexer": "ipython3",
   "version": "3.13.1"
  }
 },
 "nbformat": 4,
 "nbformat_minor": 2
}
